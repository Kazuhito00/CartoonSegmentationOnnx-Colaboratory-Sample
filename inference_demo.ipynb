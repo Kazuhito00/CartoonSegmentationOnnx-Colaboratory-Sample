{
 "cells": [
  {
   "cell_type": "code",
   "execution_count": 1,
   "metadata": {},
   "outputs": [],
   "source": [
    "from src.pipe import Pipe\n",
    "from IPython.display import Image\n",
    "import cv2"
   ]
  },
  {
   "cell_type": "code",
   "execution_count": 2,
   "metadata": {},
   "outputs": [],
   "source": [
    "pipe = Pipe(base_model_path=\"models/base.onnx\", refiner_mode_path=\"models/refiner.onnx\")\n",
    "input_image_path = \"\" # Put image path"
   ]
  },
  {
   "cell_type": "code",
   "execution_count": null,
   "metadata": {},
   "outputs": [],
   "source": [
    "# Number of people in image\n",
    "len(pipe.infer(input_image_path, instance_threshold=0.3, mask_threshold=0.6))"
   ]
  },
  {
   "cell_type": "code",
   "execution_count": null,
   "metadata": {},
   "outputs": [],
   "source": [
    "img = pipe.visualize(input_image_path, instance_threshold=0.3, mask_threshold=0.6)\n",
    "_, img_encoded = cv2.imencode('.jpg', img)\n",
    "Image(data=img_encoded.tobytes())"
   ]
  }
 ],
 "metadata": {
  "kernelspec": {
   "display_name": "Python 3",
   "language": "python",
   "name": "python3"
  },
  "language_info": {
   "codemirror_mode": {
    "name": "ipython",
    "version": 3
   },
   "file_extension": ".py",
   "mimetype": "text/x-python",
   "name": "python",
   "nbconvert_exporter": "python",
   "pygments_lexer": "ipython3",
   "version": "3.11.8"
  }
 },
 "nbformat": 4,
 "nbformat_minor": 2
}
